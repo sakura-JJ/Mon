{
 "cells": [
  {
   "cell_type": "code",
   "execution_count": 2,
   "id": "76f57a36-a5e0-43cf-a8d5-b15ec208bf3d",
   "metadata": {},
   "outputs": [
    {
     "data": {
      "text/plain": [
       "tensor(0.)"
      ]
     },
     "execution_count": 2,
     "metadata": {},
     "output_type": "execute_result"
    }
   ],
   "source": [
    "###11.20早上课实战作业 ###\n",
    "\n",
    "import torch\n",
    "### test=sigmoid(3*sigmoid( x1**2+2*x2**2+1)+sigmoid( x1**2+2*x2**2+1)+1)\n",
    "def f(x1,x2):\n",
    "    x1_cc = x1**2\n",
    "    test1 =torch.sigmoid(x1_cc + 2* x2 +1)\n",
    "    test2 = 3 * test1\n",
    "    test3 = test1\n",
    "    test = test2 + test3 + 1\n",
    "    return torch.sigmoid(test)\n",
    "\n",
    "x1 = torch.tensor(0.0,requires_grad=True)\n",
    "x2 = torch.tensor(1.0,requires_grad=True)\n",
    "\n",
    "y = f(x1,x2)\n",
    "y.backward()\n",
    "x1.grad"
   ]
  },
  {
   "cell_type": "code",
   "execution_count": 5,
   "id": "21682819-4b37-410d-be6a-185444d90f0d",
   "metadata": {},
   "outputs": [
    {
     "data": {
      "text/plain": [
       "tensor(0.0029)"
      ]
     },
     "execution_count": 5,
     "metadata": {},
     "output_type": "execute_result"
    }
   ],
   "source": [
    "x2.grad"
   ]
  },
  {
   "cell_type": "code",
   "execution_count": null,
   "id": "367d67ef-5517-44f2-bc93-e82d29ffb149",
   "metadata": {},
   "outputs": [],
   "source": []
  },
  {
   "cell_type": "code",
   "execution_count": null,
   "id": "b499eb28-a92c-4940-9256-b2b67cdf40c9",
   "metadata": {},
   "outputs": [],
   "source": []
  },
  {
   "cell_type": "code",
   "execution_count": 8,
   "id": "9a1be0df-b051-4963-9a10-63593925dce2",
   "metadata": {},
   "outputs": [
    {
     "ename": "NameError",
     "evalue": "name 'sigmoid' is not defined",
     "output_type": "error",
     "traceback": [
      "\u001b[1;31m---------------------------------------------------------------------------\u001b[0m",
      "\u001b[1;31mNameError\u001b[0m                                 Traceback (most recent call last)",
      "Cell \u001b[1;32mIn[8], line 10\u001b[0m\n\u001b[0;32m      7\u001b[0m x1 \u001b[38;5;241m=\u001b[39m torch\u001b[38;5;241m.\u001b[39mtensor(\u001b[38;5;241m0.0\u001b[39m,requires_grad\u001b[38;5;241m=\u001b[39m\u001b[38;5;28;01mTrue\u001b[39;00m)\n\u001b[0;32m      8\u001b[0m x2 \u001b[38;5;241m=\u001b[39m torch\u001b[38;5;241m.\u001b[39mtensor(\u001b[38;5;241m1.0\u001b[39m,requires_grad\u001b[38;5;241m=\u001b[39m\u001b[38;5;28;01mTrue\u001b[39;00m)\n\u001b[1;32m---> 10\u001b[0m y \u001b[38;5;241m=\u001b[39m \u001b[43mf\u001b[49m\u001b[43m(\u001b[49m\u001b[43mx1\u001b[49m\u001b[43m,\u001b[49m\u001b[43mx2\u001b[49m\u001b[43m)\u001b[49m\n\u001b[0;32m     11\u001b[0m y\u001b[38;5;241m.\u001b[39mbackward()\n\u001b[0;32m     12\u001b[0m x1\u001b[38;5;241m.\u001b[39mgrad\n",
      "Cell \u001b[1;32mIn[8], line 4\u001b[0m, in \u001b[0;36mf\u001b[1;34m(x1, x2)\u001b[0m\n\u001b[0;32m      3\u001b[0m \u001b[38;5;28;01mdef\u001b[39;00m \u001b[38;5;21mf\u001b[39m(x1,x2):\n\u001b[1;32m----> 4\u001b[0m     jj \u001b[38;5;241m=\u001b[39m torch\u001b[38;5;241m.\u001b[39msigmoid(\u001b[38;5;241m3\u001b[39m\u001b[38;5;241m*\u001b[39m\u001b[43msigmoid\u001b[49m( x1\u001b[38;5;241m*\u001b[39m\u001b[38;5;241m*\u001b[39m\u001b[38;5;241m2\u001b[39m\u001b[38;5;241m+\u001b[39m\u001b[38;5;241m2\u001b[39m\u001b[38;5;241m*\u001b[39mx2\u001b[38;5;241m*\u001b[39m\u001b[38;5;241m*\u001b[39m\u001b[38;5;241m2\u001b[39m\u001b[38;5;241m+\u001b[39m\u001b[38;5;241m1\u001b[39m)\u001b[38;5;241m+\u001b[39msigmoid( x1\u001b[38;5;241m*\u001b[39m\u001b[38;5;241m*\u001b[39m\u001b[38;5;241m2\u001b[39m\u001b[38;5;241m+\u001b[39m\u001b[38;5;241m2\u001b[39m\u001b[38;5;241m*\u001b[39mx2\u001b[38;5;241m*\u001b[39m\u001b[38;5;241m*\u001b[39m\u001b[38;5;241m2\u001b[39m\u001b[38;5;241m+\u001b[39m\u001b[38;5;241m1\u001b[39m)\u001b[38;5;241m+\u001b[39m\u001b[38;5;241m1\u001b[39m)\n\u001b[0;32m      5\u001b[0m     \u001b[38;5;28;01mreturn\u001b[39;00m jj\n",
      "\u001b[1;31mNameError\u001b[0m: name 'sigmoid' is not defined"
     ]
    }
   ],
   "source": [
    "import torch\n",
    "\n",
    "def f(x1,x2):\n",
    "    jj = torch.sigmoid(3*sigmoid( x1**2+2*x2**2+1)+sigmoid( x1**2+2*x2**2+1)+1)\n",
    "    return jj\n",
    "\n",
    "x1 = torch.tensor(0.0,requires_grad=True)\n",
    "x2 = torch.tensor(1.0,requires_grad=True)\n",
    "\n",
    "y = f(x1,x2)\n",
    "y.backward()\n",
    "x1.grad\n",
    "x2.grad"
   ]
  },
  {
   "cell_type": "code",
   "execution_count": null,
   "id": "5f795c92-d1d3-467c-9512-85d3ea03c60e",
   "metadata": {},
   "outputs": [],
   "source": []
  }
 ],
 "metadata": {
  "kernelspec": {
   "display_name": "Python 3 (ipykernel)",
   "language": "python",
   "name": "python3"
  },
  "language_info": {
   "codemirror_mode": {
    "name": "ipython",
    "version": 3
   },
   "file_extension": ".py",
   "mimetype": "text/x-python",
   "name": "python",
   "nbconvert_exporter": "python",
   "pygments_lexer": "ipython3",
   "version": "3.8.19"
  }
 },
 "nbformat": 4,
 "nbformat_minor": 5
}
