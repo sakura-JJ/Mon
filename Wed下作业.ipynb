{
 "cells": [
  {
   "cell_type": "code",
   "execution_count": null,
   "id": "a3cb8763-0021-446f-b6e0-e21fbdf1594b",
   "metadata": {},
   "outputs": [],
   "source": [
    "#11120"
   ]
  },
  {
   "cell_type": "code",
   "execution_count": 8,
   "id": "cd8e37e5-1f36-46c3-a30d-b4cfed1d0e93",
   "metadata": {},
   "outputs": [],
   "source": [
    "from sklearn.datasets import load_breast_cancer\n",
    "from sklearn.model_selection import train_test_split\n",
    "from sklearn.linear_model import LogisticRegression\n",
    "from sklearn.metrics import classification_report, accuracy_score"
   ]
  },
  {
   "cell_type": "code",
   "execution_count": 9,
   "id": "d0ed4acc-2b19-44e2-b78d-1884926d1153",
   "metadata": {},
   "outputs": [],
   "source": [
    "#加载数据集"
   ]
  },
  {
   "cell_type": "code",
   "execution_count": 10,
   "id": "9f1823df-311f-4c99-9216-299c15955b7c",
   "metadata": {},
   "outputs": [],
   "source": [
    "#加载 sklearn 自带的乳腺癌(分类)数据集\n",
    "X, y= load_breast_cancer(return_X_y=True)"
   ]
  },
  {
   "cell_type": "code",
   "execution_count": 11,
   "id": "12f7b0d1-2292-48bb-a2c3-ecacf10bba2a",
   "metadata": {},
   "outputs": [],
   "source": [
    "#划分训练集和测试集"
   ]
  },
  {
   "cell_type": "code",
   "execution_count": 12,
   "id": "102a1869-e90c-49b8-a64b-b2f534e25899",
   "metadata": {},
   "outputs": [],
   "source": [
    "#以指定比例将数据组分为训练集和测试组\n",
    "X_train,X_test, y_train, y_test = train_test_split(\n",
    "X,y,\n",
    "train_size=0.875, test_size=0.125,random_state=188\n",
    ")"
   ]
  },
  {
   "cell_type": "code",
   "execution_count": 13,
   "id": "16397bc9-4387-472f-b712-5d6b98945046",
   "metadata": {},
   "outputs": [],
   "source": [
    "#创建逻辑斯蒂回归模型并训练"
   ]
  },
  {
   "cell_type": "code",
   "execution_count": 21,
   "id": "52966dee-1d5d-4155-89b4-95d870f927b7",
   "metadata": {},
   "outputs": [
    {
     "data": {
      "text/plain": [
       "LogisticRegression(max_iter=3000, multi_class='ovr')"
      ]
     },
     "execution_count": 21,
     "metadata": {},
     "output_type": "execute_result"
    }
   ],
   "source": [
    "#使用lr 类,初始化模型\n",
    "clf=LogisticRegression(\n",
    "penalty=\"l2\",C=1.0,random_state=None, solver=\"lbfgs\", max_iter=3000,\n",
    "multi_class='ovr', verbose=0,\n",
    ")\n",
    "#使用训练数据来学习(拟合)\n",
    "clf.fit(X_train,y_train)"
   ]
  },
  {
   "cell_type": "code",
   "execution_count": 22,
   "id": "04983886-1a97-439b-a5ea-cb86f9f24e94",
   "metadata": {},
   "outputs": [],
   "source": [
    "#使用测试数据进行预测\n",
    "#返回值预测分贝数据\n",
    "y_pred=clf.predict(X_test)"
   ]
  },
  {
   "cell_type": "code",
   "execution_count": 25,
   "id": "922a4b90-9c24-4bfc-87a9-1ac64faa53fd",
   "metadata": {},
   "outputs": [
    {
     "name": "stdout",
     "output_type": "stream",
     "text": [
      "--- report ---\n",
      "              precision    recall  f1-score   support\n",
      "\n",
      "           0       0.96      0.96      0.96        27\n",
      "           1       0.98      0.98      0.98        45\n",
      "\n",
      "    accuracy                           0.97        72\n",
      "   macro avg       0.97      0.97      0.97        72\n",
      "weighted avg       0.97      0.97      0.97        72\n",
      "\n",
      " --- params ...\n",
      "[[ 0.89960769  0.17888852 -0.30396602  0.02572356 -0.17667936 -0.19319243\n",
      "  -0.56543832 -0.30645813 -0.25374937 -0.02428212 -0.07407326  1.09546992\n",
      "   0.11108786 -0.10663238 -0.02759738  0.0854027  -0.03498365 -0.0387471\n",
      "  -0.03079349  0.01957814  0.26004763 -0.45621821 -0.07916768 -0.01658918\n",
      "  -0.36072651 -0.6348124  -1.54604075 -0.6192092  -0.72734147 -0.06821056]] [28.59968311]\n",
      "--- accuracy ---\n",
      "0.9722222222222222\n"
     ]
    }
   ],
   "source": [
    "#打印主要分类指标的文本报告\n",
    "print('--- report ---')\n",
    "print(classification_report(y_test, y_pred))\n",
    "# 打印模型的参数\n",
    "print(' --- params ...')\n",
    "print(clf.coef_,clf.intercept_)\n",
    "#打印准确率\n",
    "print('--- accuracy ---')\n",
    "print(accuracy_score(y_test, y_pred))"
   ]
  },
  {
   "cell_type": "code",
   "execution_count": null,
   "id": "23d13c24-d288-4185-9002-9055e37e4548",
   "metadata": {},
   "outputs": [],
   "source": []
  },
  {
   "cell_type": "code",
   "execution_count": null,
   "id": "0095aa7c-d0b3-40ca-be21-61c3df58f7a5",
   "metadata": {},
   "outputs": [],
   "source": []
  },
  {
   "cell_type": "code",
   "execution_count": null,
   "id": "f028e583-30e4-4c8a-a43e-228b62a7ef8a",
   "metadata": {},
   "outputs": [],
   "source": []
  },
  {
   "cell_type": "code",
   "execution_count": null,
   "id": "e919b890-aa16-48f5-bd39-ce7d3967c015",
   "metadata": {},
   "outputs": [],
   "source": []
  },
  {
   "cell_type": "code",
   "execution_count": null,
   "id": "b4fcde97-7e39-496a-977f-fc2f1ba7c74a",
   "metadata": {},
   "outputs": [],
   "source": []
  },
  {
   "cell_type": "code",
   "execution_count": null,
   "id": "6f2b0a4e-bc70-4521-b67d-6d57ed3bd851",
   "metadata": {},
   "outputs": [],
   "source": []
  },
  {
   "cell_type": "code",
   "execution_count": null,
   "id": "e2ec26e8-61d3-4ea2-a627-c832b9eb62e8",
   "metadata": {},
   "outputs": [],
   "source": []
  }
 ],
 "metadata": {
  "kernelspec": {
   "display_name": "Python 3 (ipykernel)",
   "language": "python",
   "name": "python3"
  },
  "language_info": {
   "codemirror_mode": {
    "name": "ipython",
    "version": 3
   },
   "file_extension": ".py",
   "mimetype": "text/x-python",
   "name": "python",
   "nbconvert_exporter": "python",
   "pygments_lexer": "ipython3",
   "version": "3.9.7"
  }
 },
 "nbformat": 4,
 "nbformat_minor": 5
}
