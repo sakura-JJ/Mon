{
 "cells": [
  {
   "cell_type": "code",
   "execution_count": 3,
   "id": "0789f501-afd8-4ba6-9334-fe4bf62adf66",
   "metadata": {},
   "outputs": [
    {
     "data": {
      "text/plain": [
       "tensor([[1, 2],\n",
       "        [3, 4]])"
      ]
     },
     "execution_count": 3,
     "metadata": {},
     "output_type": "execute_result"
    }
   ],
   "source": [
    "import torch\n",
    "data = [[1,2],[3,4]]\n",
    "test = torch.tensor(data)\n",
    "test"
   ]
  },
  {
   "cell_type": "code",
   "execution_count": 5,
   "id": "323f7d96-7b6e-4c77-9d3e-57539fdeb166",
   "metadata": {},
   "outputs": [
    {
     "data": {
      "text/plain": [
       "tensor([[1, 2],\n",
       "        [3, 4]], dtype=torch.int32)"
      ]
     },
     "execution_count": 5,
     "metadata": {},
     "output_type": "execute_result"
    }
   ],
   "source": [
    "import torch\n",
    "import numpy as np\n",
    "data =[[1,2],[3,4]]\n",
    "np_array = np.array(data)\n",
    "x_np = torch.from_numpy(np_array)\n",
    "x_np"
   ]
  },
  {
   "cell_type": "code",
   "execution_count": 7,
   "id": "d1a73214-26c5-43af-b16e-e320d00f64b6",
   "metadata": {},
   "outputs": [
    {
     "name": "stdout",
     "output_type": "stream",
     "text": [
      "Ones Tensor: \n",
      " tensor([[1, 1],\n",
      "        [1, 1]]) \n",
      "\n",
      "Random Tensor: \n",
      " tensor([[0.4685, 0.8625],\n",
      "        [0.0418, 0.7933]]) \n",
      "\n"
     ]
    }
   ],
   "source": [
    "import torch\n",
    "data = [[1,2],[3,4]]\n",
    "test = torch.tensor(data)\n",
    "test\n",
    "\n",
    "x_ones = torch.ones_like(test)\n",
    "print(f\"Ones Tensor: \\n {x_ones} \\n\")\n",
    "\n",
    "x_rand = torch.rand_like(test,dtype=torch.float)\n",
    "print(f\"Random Tensor: \\n {x_rand} \\n\")"
   ]
  },
  {
   "cell_type": "code",
   "execution_count": null,
   "id": "cd0722be-ef62-4ec7-a76a-368705e51173",
   "metadata": {},
   "outputs": [],
   "source": []
  },
  {
   "cell_type": "code",
   "execution_count": 9,
   "id": "2bacb5b8-5ad5-4373-91bc-1d714c1de7a1",
   "metadata": {},
   "outputs": [
    {
     "name": "stdout",
     "output_type": "stream",
     "text": [
      "Random Tensor: \n",
      " tensor([[0.0808, 0.0461, 0.8089],\n",
      "        [0.2158, 0.2288, 0.1921]]) \n",
      "\n",
      "Ones Tensor: \n",
      " tensor([[1., 1., 1.],\n",
      "        [1., 1., 1.]]) \n",
      "\n",
      "Zeros Tensor: \n",
      " tensor([[0., 0., 0.],\n",
      "        [0., 0., 0.]])\n"
     ]
    }
   ],
   "source": [
    "import torch\n",
    "\n",
    "shape =(2,3,)\n",
    "rand_tensor = torch.rand(shape)\n",
    "ones_tensor = torch.ones(shape)\n",
    "zeros_tensor = torch.zeros(shape)\n",
    "\n",
    "print(f\"Random Tensor: \\n {rand_tensor} \\n\")\n",
    "print(f\"Ones Tensor: \\n {ones_tensor} \\n\")\n",
    "print(f\"Zeros Tensor: \\n {zeros_tensor}\")"
   ]
  },
  {
   "cell_type": "code",
   "execution_count": 13,
   "id": "0b14c486-d5c0-41d0-8053-5c66d3242f96",
   "metadata": {},
   "outputs": [
    {
     "name": "stdout",
     "output_type": "stream",
     "text": [
      "Shape of tensor: torch.Size([3, 4])\n",
      "Datatype of tensor:torch.float32\n",
      "Device tensor is stored on : cpu\n"
     ]
    }
   ],
   "source": [
    "tensor = torch.rand(3,4)\n",
    "\n",
    "print(f\"Shape of tensor: {tensor.shape}\")\n",
    "print(f\"Datatype of tensor:{tensor.dtype}\")\n",
    "print(f\"Device tensor is stored on : {tensor.device}\")"
   ]
  },
  {
   "cell_type": "code",
   "execution_count": null,
   "id": "557a1fcb-6c98-485a-a0ad-5f9e2aa7a03f",
   "metadata": {},
   "outputs": [],
   "source": []
  },
  {
   "cell_type": "code",
   "execution_count": 15,
   "id": "2495c62e-7c7a-4b99-b9ca-255556bcf04b",
   "metadata": {},
   "outputs": [
    {
     "name": "stdout",
     "output_type": "stream",
     "text": [
      "tensor([[1, 2, 3, 4],\n",
      "        [5, 6, 7, 8]])\n",
      "tensor([[1, 2, 3, 4, 5, 6, 7, 8]])\n"
     ]
    }
   ],
   "source": [
    "import torch \n",
    "\n",
    "tensor_1= torch.tensor([[1,2,3,4]])\n",
    "tensor_2 =  torch.tensor([[5,6,7,8]])\n",
    "print(torch.cat([tensor_1,tensor_2],dim=0))\n",
    "print(torch.cat([tensor_1,tensor_2],dim=1))"
   ]
  },
  {
   "cell_type": "code",
   "execution_count": 17,
   "id": "badd2bcb-1ed8-4cfb-a8b0-af5a86471384",
   "metadata": {},
   "outputs": [
    {
     "name": "stdout",
     "output_type": "stream",
     "text": [
      "tensor([[-0.4967,  1.8254,  1.0249,  1.3629],\n",
      "        [-0.1706, -0.0226, -0.0363,  0.9556],\n",
      "        [-1.2539, -2.2185, -0.3704,  0.6949],\n",
      "        [ 1.0122,  1.8648,  0.9358, -0.4784]])\n",
      "第一行：tensor([-0.4967,  1.8254,  1.0249,  1.3629])\n",
      "第一列：tensor([-0.4967, -0.1706, -1.2539,  1.0122])\n",
      "最后一列：tensor([ 1.3629,  0.9556,  0.6949, -0.4784])\n",
      "tensor([[-0.4967,  0.0000,  1.0249,  1.3629],\n",
      "        [-0.1706,  0.0000, -0.0363,  0.9556],\n",
      "        [-1.2539,  0.0000, -0.3704,  0.6949],\n",
      "        [ 1.0122,  0.0000,  0.9358, -0.4784]])\n"
     ]
    }
   ],
   "source": [
    "import torch\n",
    "tensor = torch.randn(4,4)\n",
    "\n",
    "print(tensor)\n",
    "print(f\"第一行：{tensor[0]}\")\n",
    "print(f\"第一列：{tensor[:,0]}\")\n",
    "print(f\"最后一列：{tensor[...,-1]}\")\n",
    "\n",
    "tensor[:,1] = 0\n",
    "print(tensor)"
   ]
  },
  {
   "cell_type": "code",
   "execution_count": null,
   "id": "ffd85a4a-a1fa-42aa-ac29-ae4e83ddcc87",
   "metadata": {},
   "outputs": [],
   "source": []
  },
  {
   "cell_type": "code",
   "execution_count": 2,
   "id": "85420cc2-7e42-4d39-aede-2b8244e7a282",
   "metadata": {},
   "outputs": [
    {
     "name": "stdout",
     "output_type": "stream",
     "text": [
      "<class 'torch.Tensor'>\n"
     ]
    }
   ],
   "source": [
    "from PIL import Image\n",
    "from torchvision import transforms\n",
    "image_path = r'D:\\桌面\\ccc.jpg'\n",
    "image = Image.open(image_path)\n",
    "\n",
    "transform = transforms.ToTensor()\n",
    "tensor_image = transform(image)\n",
    "\n",
    "print(type(tensor_image))"
   ]
  },
  {
   "cell_type": "code",
   "execution_count": 4,
   "id": "7a3876db-7713-49f6-9efe-add4564e898c",
   "metadata": {},
   "outputs": [],
   "source": [
    "import torch\n",
    "from torchvision import transforms\n",
    "\n",
    "tensor_image = torch.randn((3,224,224))\n",
    "transformed_image = transforms.ToPILImage()(tensor_image)\n",
    "\n",
    "save_path = r'hhh.jpg'\n",
    "\n",
    "transformed_image.save(save_path)"
   ]
  },
  {
   "cell_type": "code",
   "execution_count": null,
   "id": "e292573b-5072-4be2-84cb-e2396acab96e",
   "metadata": {},
   "outputs": [],
   "source": []
  }
 ],
 "metadata": {
  "kernelspec": {
   "display_name": "Python 3 (ipykernel)",
   "language": "python",
   "name": "python3"
  },
  "language_info": {
   "codemirror_mode": {
    "name": "ipython",
    "version": 3
   },
   "file_extension": ".py",
   "mimetype": "text/x-python",
   "name": "python",
   "nbconvert_exporter": "python",
   "pygments_lexer": "ipython3",
   "version": "3.8.19"
  }
 },
 "nbformat": 4,
 "nbformat_minor": 5
}
