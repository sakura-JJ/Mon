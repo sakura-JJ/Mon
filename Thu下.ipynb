{
 "cells": [
  {
   "cell_type": "code",
   "execution_count": 1,
   "id": "38e8e0fd-8487-44ee-8647-8d48025a983d",
   "metadata": {},
   "outputs": [],
   "source": [
    "from zhipuai import ZhipuAI"
   ]
  },
  {
   "cell_type": "code",
   "execution_count": 12,
   "id": "79717b91-0d35-4f3a-8e43-a1ac8323bd10",
   "metadata": {},
   "outputs": [
    {
     "name": "stdout",
     "output_type": "stream",
     "text": [
      "VideoObject(id='28711732096242555-9221303064715250427', model='cogvideox', video_result=None, task_status='PROCESSING', request_id='-9221303064715250428')\n"
     ]
    }
   ],
   "source": [
    "from zhipuai import ZhipuAI\n",
    "client = ZhipuAI(api_key=\"673a7954bd3523de6936e2ecc8545d8e.nvOZ7KgghRPGHt3a\") # 请填写您自己的APIKey\n",
    "\n",
    "response = client.videos.generations(\n",
    "    model=\"cogvideox\",\n",
    "    image_url = \"https://f.chongwunet.com/chongwunet/202402/cc/c4a03acb3a2319.png\",\n",
    "    prompt=\"一个小孩和小狗跑步\"\n",
    ")\n",
    "print(response)"
   ]
  },
  {
   "cell_type": "code",
   "execution_count": 14,
   "id": "ecbed358-4e5e-4019-99db-945cec5b4f5e",
   "metadata": {
    "tags": []
   },
   "outputs": [
    {
     "name": "stdout",
     "output_type": "stream",
     "text": [
      "VideoObject(id=None, model='cogvideox', video_result=[VideoResult(url='https://aigc-files.bigmodel.cn/api/cogvideo/d54e0df2-a7e3-11ef-8bee-8a0b61298c3b_0.mp4', cover_image_url='https://aigc-files.bigmodel.cn/api/cogvideo/d54e0df2-a7e3-11ef-8bee-8a0b61298c3b_cover_0.jpeg')], task_status='SUCCESS', request_id='-9221303030355487626')\n"
     ]
    }
   ],
   "source": [
    "from zhipuai import ZhipuAI\n",
    "client = ZhipuAI(api_key=\"673a7954bd3523de6936e2ecc8545d8e.nvOZ7KgghRPGHt3a\")# 请填写您自己的APIKey\n",
    "\n",
    "cwjjj = client.videos.retrieve_videos_result( \n",
    "    id=\"28711732096242555-9221303030355487625\" \n",
    ")    \n",
    "print (cwjjj)"
   ]
  },
  {
   "cell_type": "code",
   "execution_count": null,
   "id": "57e7f66f-aa1a-49b9-a024-b03259761c0a",
   "metadata": {},
   "outputs": [],
   "source": []
  }
 ],
 "metadata": {
  "kernelspec": {
   "display_name": "Python 3 (ipykernel)",
   "language": "python",
   "name": "python3"
  },
  "language_info": {
   "codemirror_mode": {
    "name": "ipython",
    "version": 3
   },
   "file_extension": ".py",
   "mimetype": "text/x-python",
   "name": "python",
   "nbconvert_exporter": "python",
   "pygments_lexer": "ipython3",
   "version": "3.8.19"
  }
 },
 "nbformat": 4,
 "nbformat_minor": 5
}
