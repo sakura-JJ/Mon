{
 "cells": [
  {
   "cell_type": "code",
   "execution_count": 5,
   "id": "f0d2d12b",
   "metadata": {
    "scrolled": true
   },
   "outputs": [],
   "source": [
    "import os \n",
    "from zhipuai import ZhipuAI\n",
    "import base64 #导入base64库，用于将视频文件编码成base64字符申格式\n",
    "os.environ[\"ZHIPUAI_API_KEY\"] = \"673a7954bd3523de6936e2ecc8545d8e.nvOZ7KgghRPGHt3a\"\n",
    "client = ZhipuAI()"
   ]
  },
  {
   "cell_type": "code",
   "execution_count": 3,
   "id": "97b89c2e-ab8b-45d0-bcd7-1695986129a4",
   "metadata": {},
   "outputs": [
    {
     "name": "stdout",
     "output_type": "stream",
     "text": [
      "Looking in indexes: https://pypi.tuna.tsinghua.edu.cn/simple\n",
      "Collecting zhipuai\n",
      "  Downloading https://pypi.tuna.tsinghua.edu.cn/packages/10/28/5c1efbfb560e64458b22e0442279af8bde673edcb096762a3aeccee3a8ec/zhipuai-2.1.5.20230904-py3-none-any.whl (104 kB)\n",
      "Requirement already satisfied: cachetools>=4.2.2 in d:\\python class\\lib\\site-packages (from zhipuai) (5.3.3)\n",
      "Requirement already satisfied: httpx>=0.23.0 in d:\\python class\\lib\\site-packages (from zhipuai) (0.27.0)\n",
      "Requirement already satisfied: pydantic<3.0,>=1.9.0 in d:\\python class\\lib\\site-packages (from zhipuai) (2.8.2)\n",
      "Requirement already satisfied: pydantic-core>=2.14.6 in d:\\python class\\lib\\site-packages (from zhipuai) (2.20.1)\n",
      "Requirement already satisfied: pyjwt<2.9.0,>=2.8.0 in d:\\python class\\lib\\site-packages (from zhipuai) (2.8.0)\n",
      "Requirement already satisfied: anyio in d:\\python class\\lib\\site-packages (from httpx>=0.23.0->zhipuai) (4.2.0)\n",
      "Requirement already satisfied: certifi in d:\\python class\\lib\\site-packages (from httpx>=0.23.0->zhipuai) (2024.8.30)\n",
      "Requirement already satisfied: httpcore==1.* in d:\\python class\\lib\\site-packages (from httpx>=0.23.0->zhipuai) (1.0.2)\n",
      "Requirement already satisfied: idna in d:\\python class\\lib\\site-packages (from httpx>=0.23.0->zhipuai) (3.7)\n",
      "Requirement already satisfied: sniffio in d:\\python class\\lib\\site-packages (from httpx>=0.23.0->zhipuai) (1.3.0)\n",
      "Requirement already satisfied: h11<0.15,>=0.13 in d:\\python class\\lib\\site-packages (from httpcore==1.*->httpx>=0.23.0->zhipuai) (0.14.0)\n",
      "Requirement already satisfied: annotated-types>=0.4.0 in d:\\python class\\lib\\site-packages (from pydantic<3.0,>=1.9.0->zhipuai) (0.6.0)\n",
      "Requirement already satisfied: typing-extensions>=4.6.1 in d:\\python class\\lib\\site-packages (from pydantic<3.0,>=1.9.0->zhipuai) (4.11.0)\n",
      "Requirement already satisfied: exceptiongroup>=1.0.2 in d:\\python class\\lib\\site-packages (from anyio->httpx>=0.23.0->zhipuai) (1.2.0)\n",
      "Installing collected packages: zhipuai\n",
      "Successfully installed zhipuai-2.1.5.20230904\n",
      "Note: you may need to restart the kernel to use updated packages.\n"
     ]
    }
   ],
   "source": [
    "pip install -i https://pypi.tuna.tsinghua.edu.cn/simple zhipuai"
   ]
  },
  {
   "cell_type": "code",
   "execution_count": 9,
   "id": "8eb8ad3e",
   "metadata": {},
   "outputs": [
    {
     "name": "stdout",
     "output_type": "stream",
     "text": [
      "通常来说，视频理解的响应时间较长，需要等待数十秒….....\n",
      "CompletionMessage(content='视频展示了一个婴儿躺在带有卡通图案的床上。婴儿穿着一件白色连体衣和一条粉色毛毯。一只手伸向婴儿，试图引起他们的注意。在整个视频中，可以看到婴儿直视镜头并微笑。房间光线充足，看起来是一个舒适温馨的空间。', role='assistant', tool_calls=None)\n"
     ]
    }
   ],
   "source": [
    "video_path = \"D:\\桌面\\child.mp4\" \n",
    "# 设置视频文件的路径\n",
    "with open(video_path, 'rb') as video_file: # 以\"二进制读\"模式打开视频文件\n",
    "    video_base = base64.b64encode(video_file.read()).decode('utf-8')#把视频文件编码成智谱支持的video_base64字符串，再解码成utf-8格式字符申\n",
    "\n",
    "print(\"通常来说，视频理解的响应时间较长，需要等待数十秒….....\")\n",
    "\n",
    "response = client.chat.completions.create( # 直接调补全接口\n",
    "    model=\"glm-4v-plus\",# 设置智谱具体大模型，glm-4v-plus支持视频理解\n",
    "    temperature=0.0,#设置温度参数,控制生成文本的随机性, 0.0表示不随机,输出最可能的文本\n",
    "    top_p=0,# 设置top_p参数，控制生成文本的多样性，0表示不使用此参数\n",
    "\n",
    "    messages=[{ #设置消息列表\n",
    "        \"role\":\"user\",# 指定消息的角色为用户\n",
    "        \"content\":[{ # 定义消息内容列表\n",
    "            \"type\":\"video_url\", # 设置视频链接\n",
    "            \"video_url\":{\"url\":video_base} # 将编码后的视频以base64字符申形式作为链接\n",
    "        },{\n",
    "            \"type\":\"text\",\n",
    "            \"text\":\"请仔细描述这个视频的环境，讲给我听\" # 设置提问/提示词# 设置提问/提示词类型为文本\n",
    "        }]\n",
    "    }]\n",
    ")\n",
    "print(response.choices[0].message) # 输出回答列表中的第一个选项中的消息"
   ]
  },
  {
   "cell_type": "code",
   "execution_count": null,
   "id": "d88d117c",
   "metadata": {},
   "outputs": [],
   "source": []
  }
 ],
 "metadata": {
  "kernelspec": {
   "display_name": "Python 3 (ipykernel)",
   "language": "python",
   "name": "python3"
  },
  "language_info": {
   "codemirror_mode": {
    "name": "ipython",
    "version": 3
   },
   "file_extension": ".py",
   "mimetype": "text/x-python",
   "name": "python",
   "nbconvert_exporter": "python",
   "pygments_lexer": "ipython3",
   "version": "3.8.19"
  }
 },
 "nbformat": 4,
 "nbformat_minor": 5
}
